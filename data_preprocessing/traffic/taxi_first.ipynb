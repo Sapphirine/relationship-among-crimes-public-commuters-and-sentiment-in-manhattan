{
 "cells": [
  {
   "cell_type": "code",
   "execution_count": null,
   "metadata": {},
   "outputs": [],
   "source": [
    "import pandas as pd\n",
    "import numpy as np\n",
    "import re\n",
    "pd.set_option('display.max_columns', 30)"
   ]
  },
  {
   "cell_type": "code",
   "execution_count": null,
   "metadata": {},
   "outputs": [],
   "source": [
    "pd.read_csv('./nyc_taxi_data.csv',sep=',',nrows = 5)"
   ]
  },
  {
   "cell_type": "code",
   "execution_count": null,
   "metadata": {
    "scrolled": true
   },
   "outputs": [],
   "source": [
    "iter_list = pd.read_csv('./nyc_taxi_data.csv',sep = ',',chunksize = 1000000,iterator = True)"
   ]
  },
  {
   "cell_type": "code",
   "execution_count": null,
   "metadata": {},
   "outputs": [],
   "source": [
    "iter_list"
   ]
  },
  {
   "cell_type": "code",
   "execution_count": null,
   "metadata": {},
   "outputs": [],
   "source": [
    "#df_final = pd.DataFrame()\n",
    "for i, df in enumerate(iter_list):\n",
    "    df_sim = df.drop(columns = ['trip_distance', 'rate_code', 'store_and_fwd_flag', 'payment_type','fare_amount','surcharge','mta_tax','tip_amount','tolls_amount','total_amount'])\n",
    "    df_sim = df_sim[(df_sim['pickup_longitude'] != 0)&(df_sim['pickup_latitude'] != 0)&(df_sim['dropoff_longitude'] != 0)&(df_sim['dropoff_longitude'] != 0)]\n",
    "    df_time = time_standard(df_sim)\n",
    "    #df_final = df_final.append(df_sim, ignore_index = True)\n",
    "    df_time.to_csv(\"./Dataset/taxi/temp_%d\"%(i), index=None)"
   ]
  },
  {
   "cell_type": "code",
   "execution_count": null,
   "metadata": {},
   "outputs": [],
   "source": [
    "def time_to_month(time):\n",
    "    return int(re.split('[- :]',time)[1])\n",
    "\n",
    "def time_to_day(time):\n",
    "    return int(re.split('[- :]',time)[2])\n",
    "\n",
    "def time_to_hour(time):\n",
    "    return int(re.split('[- :]',time)[3])\n",
    "\n",
    "#def time_to_minute(time):\n",
    "#    return int(re.split('[- :]',time)[4])\n",
    "\n",
    "def time_standard(df):\n",
    "    df['month'] = ''\n",
    "    df['day'] = ''\n",
    "    df['pick_hour'] = ''\n",
    "    #df['pick_minute'] = ''\n",
    "    df['dropoff_hour'] = ''\n",
    "    #df['dropoff_minute'] = ''\n",
    "    \n",
    "    \n",
    "    df['month'] = df['pickup_datetime'].map(time_to_month)\n",
    "    df['day'] = df['pickup_datetime'].map(time_to_day)\n",
    "    df['pick_hour'] = df['pickup_datetime'].map(time_to_hour)\n",
    "    #df['pick_minute'] = df['pickup_datetime'].map(time_to_minute)\n",
    "    df['dropoff_hour'] = df['dropoff_datetime'].map(time_to_hour)\n",
    "    #df['dropoff_minute'] = df['dropoff_datetime'].map(time_to_minute)\n",
    "    \n",
    "    return df"
   ]
  },
  {
   "cell_type": "code",
   "execution_count": null,
   "metadata": {
    "scrolled": true
   },
   "outputs": [],
   "source": [
    "df_complete = pd.read_csv('./Dataset/taxi/taxi_complete.csv',sep = ',')"
   ]
  },
  {
   "cell_type": "code",
   "execution_count": null,
   "metadata": {},
   "outputs": [],
   "source": [
    "Date = []\n",
    "for i in range(1,13):\n",
    "    Date[i] = random.randrange(1, 31, 1)\n",
    "for i in range(110):\n",
    "    temp = pd.read_csv(\"./Dataset/taxi/temp_%d.csv\"%(i), sep=',')\n",
    "    temp = temp[(temp['month'] == 1)]"
   ]
  },
  {
   "cell_type": "code",
   "execution_count": null,
   "metadata": {},
   "outputs": [],
   "source": [
    "iter_list_2 = pd.read_csv('./Dataset/taxi/taxi_complete.csv',sep = ',',chunksize = 5000000,iterator = True)"
   ]
  },
  {
   "cell_type": "code",
   "execution_count": null,
   "metadata": {},
   "outputs": [],
   "source": [
    "df = pd.DataFrame()\n",
    "for i, df_2 in enumerate(iter_list_2):\n",
    "    temp = df_2[df_2['month'] == 1]\n",
    "    df = df.append(temp, ignore_index = True)"
   ]
  },
  {
   "cell_type": "code",
   "execution_count": null,
   "metadata": {},
   "outputs": [],
   "source": [
    "random.seed(1)\n",
    "df_sim_subset = pd.DataFrame()\n",
    "for i in range(1,13):\n",
    "    Date = random.randrange(1, 31, 1)\n",
    "    temp = df_new_final[(df_complete['month']==i)&(df_complete['Day']==Date)]\n",
    "    df_new_final_subset = df_new_final_subset.append(temp, ignore_index = True)\n",
    "df_new_final_subset"
   ]
  }
 ],
 "metadata": {
  "kernelspec": {
   "display_name": "Python 3",
   "language": "python",
   "name": "python3"
  },
  "language_info": {
   "codemirror_mode": {
    "name": "ipython",
    "version": 3
   },
   "file_extension": ".py",
   "mimetype": "text/x-python",
   "name": "python",
   "nbconvert_exporter": "python",
   "pygments_lexer": "ipython3",
   "version": "3.6.5"
  }
 },
 "nbformat": 4,
 "nbformat_minor": 2
}
