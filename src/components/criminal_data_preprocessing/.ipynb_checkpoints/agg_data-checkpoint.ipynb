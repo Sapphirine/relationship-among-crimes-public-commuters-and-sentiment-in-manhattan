{
 "cells": [
  {
   "cell_type": "code",
   "execution_count": 35,
   "metadata": {},
   "outputs": [],
   "source": [
    "import numpy as np;\n",
    "import pandas as pd;\n",
    "import datetime;\n",
    "\n",
    "df = pd.read_csv(\"NYPD_crime_group_by_date.csv\")\n",
    "dailyMap = {}\n",
    "\n",
    "for i in range(1, 13):\n",
    "    dailyMap[i] = {}\n",
    "    for j in range(24):\n",
    "        dailyMap[i][j] = {}\n",
    "\n",
    "for idx, row in df.iterrows():\n",
    "    datetimeObj = datetime.datetime.strptime(row[\"datetime\"], '%m/%d/%Y')\n",
    "    currMonth = datetimeObj.month\n",
    "    currHour = int(row[\"time\"])\n",
    "    precinct = int(row[\"precinct\"])\n",
    "    if(precinct not in dailyMap[currMonth][currHour]):\n",
    "        dailyMap[currMonth][currHour][precinct] = {}\n",
    "        dailyMap[currMonth][currHour][precinct][\"totalNumber\"] = 0\n",
    "        dailyMap[currMonth][currHour][precinct][\"felony\"] = 0\n",
    "        dailyMap[currMonth][currHour][precinct][\"misdemeanor\"] = 0\n",
    "        dailyMap[currMonth][currHour][precinct][\"violation\"] = 0\n",
    "\n",
    "    dailyMap[currMonth][currHour][precinct][\"totalNumber\"] += row[\"totalNumber\"]\n",
    "    dailyMap[currMonth][currHour][precinct][\"felony\"] += row[\"felony\"]\n",
    "    dailyMap[currMonth][currHour][precinct][\"misdemeanor\"] += row[\"misdemeanor\"]\n",
    "    dailyMap[currMonth][currHour][precinct][\"violation\"] += row[\"violation\"]\n"
   ]
  },
  {
   "cell_type": "code",
   "execution_count": 36,
   "metadata": {},
   "outputs": [],
   "source": [
    "tmpMap = {}\n",
    "for key1, value1 in dailyMap.items():\n",
    "    for key2, value2 in value1.items():\n",
    "        for key3, value3 in value2.items():\n",
    "            tmpMap[len(tmpMap)] = {\n",
    "                                   \"month\": key1, \"hour\": key2, \"precinct\": key3,\n",
    "                                   \"totalNumber\": value3[\"totalNumber\"], \"felony\": value3[\"felony\"],\n",
    "                                   \"misdemeanor\": value3[\"misdemeanor\"], \"violation\": value3[\"violation\"],\n",
    "                                  }\n"
   ]
  },
  {
   "cell_type": "code",
   "execution_count": 37,
   "metadata": {},
   "outputs": [],
   "source": [
    "newDf = pd.DataFrame.from_dict(tmpMap, orient=\"index\")\n",
    "newDf.columns = [\"month\", \"hour\", \"precinct\", \"totalNumber\", \"felony\", \"misdemeanor\", \"violation\"]"
   ]
  },
  {
   "cell_type": "code",
   "execution_count": 38,
   "metadata": {},
   "outputs": [
    {
     "data": {
      "text/html": [
       "<div>\n",
       "<style scoped>\n",
       "    .dataframe tbody tr th:only-of-type {\n",
       "        vertical-align: middle;\n",
       "    }\n",
       "\n",
       "    .dataframe tbody tr th {\n",
       "        vertical-align: top;\n",
       "    }\n",
       "\n",
       "    .dataframe thead th {\n",
       "        text-align: right;\n",
       "    }\n",
       "</style>\n",
       "<table border=\"1\" class=\"dataframe\">\n",
       "  <thead>\n",
       "    <tr style=\"text-align: right;\">\n",
       "      <th></th>\n",
       "      <th>month</th>\n",
       "      <th>hour</th>\n",
       "      <th>precinct</th>\n",
       "      <th>totalNumber</th>\n",
       "      <th>felony</th>\n",
       "      <th>misdemeanor</th>\n",
       "      <th>violation</th>\n",
       "    </tr>\n",
       "  </thead>\n",
       "  <tbody>\n",
       "    <tr>\n",
       "      <th>0</th>\n",
       "      <td>1</td>\n",
       "      <td>0</td>\n",
       "      <td>44</td>\n",
       "      <td>108</td>\n",
       "      <td>43</td>\n",
       "      <td>63</td>\n",
       "      <td>2</td>\n",
       "    </tr>\n",
       "    <tr>\n",
       "      <th>1</th>\n",
       "      <td>1</td>\n",
       "      <td>0</td>\n",
       "      <td>103</td>\n",
       "      <td>59</td>\n",
       "      <td>21</td>\n",
       "      <td>33</td>\n",
       "      <td>5</td>\n",
       "    </tr>\n",
       "    <tr>\n",
       "      <th>2</th>\n",
       "      <td>1</td>\n",
       "      <td>0</td>\n",
       "      <td>28</td>\n",
       "      <td>19</td>\n",
       "      <td>7</td>\n",
       "      <td>9</td>\n",
       "      <td>3</td>\n",
       "    </tr>\n",
       "    <tr>\n",
       "      <th>3</th>\n",
       "      <td>1</td>\n",
       "      <td>0</td>\n",
       "      <td>105</td>\n",
       "      <td>81</td>\n",
       "      <td>20</td>\n",
       "      <td>54</td>\n",
       "      <td>7</td>\n",
       "    </tr>\n",
       "    <tr>\n",
       "      <th>4</th>\n",
       "      <td>1</td>\n",
       "      <td>0</td>\n",
       "      <td>13</td>\n",
       "      <td>51</td>\n",
       "      <td>22</td>\n",
       "      <td>23</td>\n",
       "      <td>6</td>\n",
       "    </tr>\n",
       "  </tbody>\n",
       "</table>\n",
       "</div>"
      ],
      "text/plain": [
       "   month  hour  precinct  totalNumber  felony  misdemeanor  violation\n",
       "0      1     0        44          108      43           63          2\n",
       "1      1     0       103           59      21           33          5\n",
       "2      1     0        28           19       7            9          3\n",
       "3      1     0       105           81      20           54          7\n",
       "4      1     0        13           51      22           23          6"
      ]
     },
     "execution_count": 38,
     "metadata": {},
     "output_type": "execute_result"
    }
   ],
   "source": [
    "newDf.head()"
   ]
  },
  {
   "cell_type": "code",
   "execution_count": 40,
   "metadata": {},
   "outputs": [],
   "source": [
    "newDf.to_csv(\"NYPD_crime_daily_aggregation.csv\", columns=[\"month\", \"hour\", \"precinct\", \"totalNumber\", \"felony\", \"misdemeanor\", \"violation\"])"
   ]
  }
 ],
 "metadata": {
  "kernelspec": {
   "display_name": "Python 3",
   "language": "python",
   "name": "python3"
  },
  "language_info": {
   "codemirror_mode": {
    "name": "ipython",
    "version": 3
   },
   "file_extension": ".py",
   "mimetype": "text/x-python",
   "name": "python",
   "nbconvert_exporter": "python",
   "pygments_lexer": "ipython3",
   "version": "3.6.5"
  }
 },
 "nbformat": 4,
 "nbformat_minor": 2
}
